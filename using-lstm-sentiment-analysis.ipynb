{
 "cells": [
  {
   "cell_type": "markdown",
   "id": "96309352",
   "metadata": {
    "papermill": {
     "duration": 0.008688,
     "end_time": "2023-02-28T11:59:14.024990",
     "exception": false,
     "start_time": "2023-02-28T11:59:14.016302",
     "status": "completed"
    },
    "tags": []
   },
   "source": [
    "# **Introduction**\n",
    "In this notebook,I use some simple techniques for sentiment analysis. There are many models/techniques that is used to sentiment analysis but here I use simple approach so that one can understand easily how to preprocess data and detect sentiment."
   ]
  },
  {
   "cell_type": "markdown",
   "id": "1d491eac",
   "metadata": {
    "papermill": {
     "duration": 0.007129,
     "end_time": "2023-02-28T11:59:14.039980",
     "exception": false,
     "start_time": "2023-02-28T11:59:14.032851",
     "status": "completed"
    },
    "tags": []
   },
   "source": [
    "# **Table of Contents**\n",
    "* Import tools/libraries\n",
    "* Load data set\n",
    "* Target visualization\n",
    "* Text Cleaning\n",
    "* Remove Stopward\n",
    "* Stemming\n",
    "* Split data set\n",
    "* Tokenization\n",
    "* Word Embedding\n",
    "* Model\n",
    "* Prediction"
   ]
  },
  {
   "cell_type": "markdown",
   "id": "33307867",
   "metadata": {
    "papermill": {
     "duration": 0.007166,
     "end_time": "2023-02-28T11:59:14.054471",
     "exception": false,
     "start_time": "2023-02-28T11:59:14.047305",
     "status": "completed"
    },
    "tags": []
   },
   "source": [
    "### **All the necessary tools/libraries**\n",
    "All the tools that help us to complete this task."
   ]
  },
  {
   "cell_type": "code",
   "execution_count": 1,
   "id": "25d79144",
   "metadata": {
    "execution": {
     "iopub.execute_input": "2023-02-28T11:59:14.070761Z",
     "iopub.status.busy": "2023-02-28T11:59:14.070244Z",
     "iopub.status.idle": "2023-02-28T11:59:26.737277Z",
     "shell.execute_reply": "2023-02-28T11:59:26.736330Z"
    },
    "papermill": {
     "duration": 12.678719,
     "end_time": "2023-02-28T11:59:26.740493",
     "exception": false,
     "start_time": "2023-02-28T11:59:14.061774",
     "status": "completed"
    },
    "tags": []
   },
   "outputs": [],
   "source": [
    "import re\n",
    "import string\n",
    "import numpy as np \n",
    "import random\n",
    "import pandas as pd \n",
    "from sklearn.model_selection import train_test_split\n",
    "import matplotlib.pyplot as plt\n",
    "import seaborn as sns\n",
    "%matplotlib inline\n",
    "from wordcloud import WordCloud, STOPWORDS, ImageColorGenerator\n",
    "import nltk\n",
    "from tensorflow.keras.optimizers import Adam\n",
    "from tensorflow.keras.callbacks import ReduceLROnPlateau\n",
    "from tensorflow.keras.preprocessing.sequence import pad_sequences\n",
    "from nltk.corpus import stopwords\n",
    "from nltk.tokenize import word_tokenize\n",
    "import os\n",
    "from tensorflow.keras.layers import Conv1D, Bidirectional, LSTM, Dense, Input, Dropout\n",
    "from tensorflow.keras.layers import SpatialDropout1D\n",
    "from tensorflow.keras.callbacks import ModelCheckpoint\n",
    "import tensorflow\n",
    "from keras.preprocessing.text import Tokenizer\n",
    "import spacy\n",
    "import random\n",
    "from spacy.util import compounding\n",
    "from spacy.util import minibatch\n",
    "from sklearn.preprocessing import LabelEncoder"
   ]
  },
  {
   "cell_type": "markdown",
   "id": "de224643",
   "metadata": {
    "papermill": {
     "duration": 0.010299,
     "end_time": "2023-02-28T11:59:26.762580",
     "exception": false,
     "start_time": "2023-02-28T11:59:26.752281",
     "status": "completed"
    },
    "tags": []
   },
   "source": [
    "### **Load data set**\n",
    "This data set contain 6 columns but for sentiment analysis we need just two columns namely 1st columns and last columns. The columns name for this data set is not clear, so to fixed it we change the columns name."
   ]
  },
  {
   "cell_type": "code",
   "execution_count": 2,
   "id": "1b6f0718",
   "metadata": {
    "execution": {
     "iopub.execute_input": "2023-02-28T11:59:26.785632Z",
     "iopub.status.busy": "2023-02-28T11:59:26.784955Z",
     "iopub.status.idle": "2023-02-28T11:59:33.478680Z",
     "shell.execute_reply": "2023-02-28T11:59:33.477660Z"
    },
    "papermill": {
     "duration": 6.70752,
     "end_time": "2023-02-28T11:59:33.480710",
     "exception": false,
     "start_time": "2023-02-28T11:59:26.773190",
     "status": "completed"
    },
    "tags": []
   },
   "outputs": [
    {
     "data": {
      "text/html": [
       "<div>\n",
       "<style scoped>\n",
       "    .dataframe tbody tr th:only-of-type {\n",
       "        vertical-align: middle;\n",
       "    }\n",
       "\n",
       "    .dataframe tbody tr th {\n",
       "        vertical-align: top;\n",
       "    }\n",
       "\n",
       "    .dataframe thead th {\n",
       "        text-align: right;\n",
       "    }\n",
       "</style>\n",
       "<table border=\"1\" class=\"dataframe\">\n",
       "  <thead>\n",
       "    <tr style=\"text-align: right;\">\n",
       "      <th></th>\n",
       "      <th>sentiment</th>\n",
       "      <th>ids</th>\n",
       "      <th>date</th>\n",
       "      <th>flag</th>\n",
       "      <th>user</th>\n",
       "      <th>text</th>\n",
       "    </tr>\n",
       "  </thead>\n",
       "  <tbody>\n",
       "    <tr>\n",
       "      <th>0</th>\n",
       "      <td>0</td>\n",
       "      <td>1467810369</td>\n",
       "      <td>Mon Apr 06 22:19:45 PDT 2009</td>\n",
       "      <td>NO_QUERY</td>\n",
       "      <td>_TheSpecialOne_</td>\n",
       "      <td>@switchfoot http://twitpic.com/2y1zl - Awww, t...</td>\n",
       "    </tr>\n",
       "    <tr>\n",
       "      <th>1</th>\n",
       "      <td>0</td>\n",
       "      <td>1467810672</td>\n",
       "      <td>Mon Apr 06 22:19:49 PDT 2009</td>\n",
       "      <td>NO_QUERY</td>\n",
       "      <td>scotthamilton</td>\n",
       "      <td>is upset that he can't update his Facebook by ...</td>\n",
       "    </tr>\n",
       "    <tr>\n",
       "      <th>2</th>\n",
       "      <td>0</td>\n",
       "      <td>1467810917</td>\n",
       "      <td>Mon Apr 06 22:19:53 PDT 2009</td>\n",
       "      <td>NO_QUERY</td>\n",
       "      <td>mattycus</td>\n",
       "      <td>@Kenichan I dived many times for the ball. Man...</td>\n",
       "    </tr>\n",
       "    <tr>\n",
       "      <th>3</th>\n",
       "      <td>0</td>\n",
       "      <td>1467811184</td>\n",
       "      <td>Mon Apr 06 22:19:57 PDT 2009</td>\n",
       "      <td>NO_QUERY</td>\n",
       "      <td>ElleCTF</td>\n",
       "      <td>my whole body feels itchy and like its on fire</td>\n",
       "    </tr>\n",
       "    <tr>\n",
       "      <th>4</th>\n",
       "      <td>0</td>\n",
       "      <td>1467811193</td>\n",
       "      <td>Mon Apr 06 22:19:57 PDT 2009</td>\n",
       "      <td>NO_QUERY</td>\n",
       "      <td>Karoli</td>\n",
       "      <td>@nationwideclass no, it's not behaving at all....</td>\n",
       "    </tr>\n",
       "  </tbody>\n",
       "</table>\n",
       "</div>"
      ],
      "text/plain": [
       "   sentiment         ids                          date      flag  \\\n",
       "0          0  1467810369  Mon Apr 06 22:19:45 PDT 2009  NO_QUERY   \n",
       "1          0  1467810672  Mon Apr 06 22:19:49 PDT 2009  NO_QUERY   \n",
       "2          0  1467810917  Mon Apr 06 22:19:53 PDT 2009  NO_QUERY   \n",
       "3          0  1467811184  Mon Apr 06 22:19:57 PDT 2009  NO_QUERY   \n",
       "4          0  1467811193  Mon Apr 06 22:19:57 PDT 2009  NO_QUERY   \n",
       "\n",
       "              user                                               text  \n",
       "0  _TheSpecialOne_  @switchfoot http://twitpic.com/2y1zl - Awww, t...  \n",
       "1    scotthamilton  is upset that he can't update his Facebook by ...  \n",
       "2         mattycus  @Kenichan I dived many times for the ball. Man...  \n",
       "3          ElleCTF    my whole body feels itchy and like its on fire   \n",
       "4           Karoli  @nationwideclass no, it's not behaving at all....  "
      ]
     },
     "execution_count": 2,
     "metadata": {},
     "output_type": "execute_result"
    }
   ],
   "source": [
    "columns  = [\"sentiment\", \"ids\", \"date\", \"flag\", \"user\", \"text\"]\n",
    "data = pd.read_csv(\"/kaggle/input/sentiment140/training.1600000.processed.noemoticon.csv\", encoding = \"ISO-8859-1\", names = columns)\n",
    "data.head()"
   ]
  },
  {
   "cell_type": "markdown",
   "id": "eece07a8",
   "metadata": {
    "papermill": {
     "duration": 0.007676,
     "end_time": "2023-02-28T11:59:33.496369",
     "exception": false,
     "start_time": "2023-02-28T11:59:33.488693",
     "status": "completed"
    },
    "tags": []
   },
   "source": [
    "As we work on only two columns namely sentiment and text so we can separate thoes two columns."
   ]
  },
  {
   "cell_type": "code",
   "execution_count": 3,
   "id": "9bb9550a",
   "metadata": {
    "execution": {
     "iopub.execute_input": "2023-02-28T11:59:33.512919Z",
     "iopub.status.busy": "2023-02-28T11:59:33.512614Z",
     "iopub.status.idle": "2023-02-28T11:59:33.557730Z",
     "shell.execute_reply": "2023-02-28T11:59:33.556655Z"
    },
    "papermill": {
     "duration": 0.055729,
     "end_time": "2023-02-28T11:59:33.559686",
     "exception": false,
     "start_time": "2023-02-28T11:59:33.503957",
     "status": "completed"
    },
    "tags": []
   },
   "outputs": [
    {
     "data": {
      "text/html": [
       "<div>\n",
       "<style scoped>\n",
       "    .dataframe tbody tr th:only-of-type {\n",
       "        vertical-align: middle;\n",
       "    }\n",
       "\n",
       "    .dataframe tbody tr th {\n",
       "        vertical-align: top;\n",
       "    }\n",
       "\n",
       "    .dataframe thead th {\n",
       "        text-align: right;\n",
       "    }\n",
       "</style>\n",
       "<table border=\"1\" class=\"dataframe\">\n",
       "  <thead>\n",
       "    <tr style=\"text-align: right;\">\n",
       "      <th></th>\n",
       "      <th>sentiment</th>\n",
       "      <th>text</th>\n",
       "    </tr>\n",
       "  </thead>\n",
       "  <tbody>\n",
       "    <tr>\n",
       "      <th>0</th>\n",
       "      <td>0</td>\n",
       "      <td>@switchfoot http://twitpic.com/2y1zl - Awww, t...</td>\n",
       "    </tr>\n",
       "    <tr>\n",
       "      <th>1</th>\n",
       "      <td>0</td>\n",
       "      <td>is upset that he can't update his Facebook by ...</td>\n",
       "    </tr>\n",
       "    <tr>\n",
       "      <th>2</th>\n",
       "      <td>0</td>\n",
       "      <td>@Kenichan I dived many times for the ball. Man...</td>\n",
       "    </tr>\n",
       "    <tr>\n",
       "      <th>3</th>\n",
       "      <td>0</td>\n",
       "      <td>my whole body feels itchy and like its on fire</td>\n",
       "    </tr>\n",
       "    <tr>\n",
       "      <th>4</th>\n",
       "      <td>0</td>\n",
       "      <td>@nationwideclass no, it's not behaving at all....</td>\n",
       "    </tr>\n",
       "  </tbody>\n",
       "</table>\n",
       "</div>"
      ],
      "text/plain": [
       "   sentiment                                               text\n",
       "0          0  @switchfoot http://twitpic.com/2y1zl - Awww, t...\n",
       "1          0  is upset that he can't update his Facebook by ...\n",
       "2          0  @Kenichan I dived many times for the ball. Man...\n",
       "3          0    my whole body feels itchy and like its on fire \n",
       "4          0  @nationwideclass no, it's not behaving at all...."
      ]
     },
     "execution_count": 3,
     "metadata": {},
     "output_type": "execute_result"
    }
   ],
   "source": [
    "data = data[['sentiment','text']]\n",
    "data.head()"
   ]
  },
  {
   "cell_type": "markdown",
   "id": "cedcea2c",
   "metadata": {
    "papermill": {
     "duration": 0.007521,
     "end_time": "2023-02-28T11:59:33.575008",
     "exception": false,
     "start_time": "2023-02-28T11:59:33.567487",
     "status": "completed"
    },
    "tags": []
   },
   "source": [
    "### **Target visualization**\n",
    "our target is sentiment, and we have to predict when it is positive or negative. So, as our data set contain 0 and 4 so we need to replace thoes value as negative and possitive, and later we will encode thoes values as 0 and 1."
   ]
  },
  {
   "cell_type": "code",
   "execution_count": 4,
   "id": "bd9a8705",
   "metadata": {
    "execution": {
     "iopub.execute_input": "2023-02-28T11:59:33.592957Z",
     "iopub.status.busy": "2023-02-28T11:59:33.591338Z",
     "iopub.status.idle": "2023-02-28T11:59:34.164972Z",
     "shell.execute_reply": "2023-02-28T11:59:34.164034Z"
    },
    "papermill": {
     "duration": 0.584471,
     "end_time": "2023-02-28T11:59:34.167128",
     "exception": false,
     "start_time": "2023-02-28T11:59:33.582657",
     "status": "completed"
    },
    "tags": []
   },
   "outputs": [
    {
     "data": {
      "text/plain": [
       "<AxesSubplot:>"
      ]
     },
     "execution_count": 4,
     "metadata": {},
     "output_type": "execute_result"
    },
    {
     "data": {
      "image/png": "[encoded data removed]",
      "text/plain": [
       "<Figure size 640x480 with 1 Axes>"
      ]
     },
     "metadata": {},
     "output_type": "display_data"
    }
   ],
   "source": [
    "class_dict = {0:'negative', 4:'positive'}\n",
    "data['sentiment'] = data['sentiment'].apply(lambda x:  class_dict[x])\n",
    "count = data['sentiment'].value_counts()\n",
    "count.plot(kind='bar')"
   ]
  },
  {
   "cell_type": "markdown",
   "id": "02546349",
   "metadata": {
    "papermill": {
     "duration": 0.007838,
     "end_time": "2023-02-28T11:59:34.183217",
     "exception": false,
     "start_time": "2023-02-28T11:59:34.175379",
     "status": "completed"
    },
    "tags": []
   },
   "source": [
    "### **Text Cleaning**\n",
    "Our data set is not clear, it contains uppercase, brackets, links, punctuation and so many things. We need to remove thoes things from our data. Here, we will use re library to fixed thoes things."
   ]
  },
  {
   "cell_type": "code",
   "execution_count": 5,
   "id": "0206b7b4",
   "metadata": {
    "execution": {
     "iopub.execute_input": "2023-02-28T11:59:34.201108Z",
     "iopub.status.busy": "2023-02-28T11:59:34.200242Z",
     "iopub.status.idle": "2023-02-28T12:00:01.667413Z",
     "shell.execute_reply": "2023-02-28T12:00:01.666468Z"
    },
    "papermill": {
     "duration": 27.478267,
     "end_time": "2023-02-28T12:00:01.669533",
     "exception": false,
     "start_time": "2023-02-28T11:59:34.191266",
     "status": "completed"
    },
    "tags": []
   },
   "outputs": [
    {
     "data": {
      "text/html": [
       "<div>\n",
       "<style scoped>\n",
       "    .dataframe tbody tr th:only-of-type {\n",
       "        vertical-align: middle;\n",
       "    }\n",
       "\n",
       "    .dataframe tbody tr th {\n",
       "        vertical-align: top;\n",
       "    }\n",
       "\n",
       "    .dataframe thead th {\n",
       "        text-align: right;\n",
       "    }\n",
       "</style>\n",
       "<table border=\"1\" class=\"dataframe\">\n",
       "  <thead>\n",
       "    <tr style=\"text-align: right;\">\n",
       "      <th></th>\n",
       "      <th>sentiment</th>\n",
       "      <th>text</th>\n",
       "    </tr>\n",
       "  </thead>\n",
       "  <tbody>\n",
       "    <tr>\n",
       "      <th>0</th>\n",
       "      <td>negative</td>\n",
       "      <td>switchfoot   awww thats a bummer  you shoulda ...</td>\n",
       "    </tr>\n",
       "    <tr>\n",
       "      <th>1</th>\n",
       "      <td>negative</td>\n",
       "      <td>is upset that he cant update his facebook by t...</td>\n",
       "    </tr>\n",
       "    <tr>\n",
       "      <th>2</th>\n",
       "      <td>negative</td>\n",
       "      <td>kenichan i dived many times for the ball manag...</td>\n",
       "    </tr>\n",
       "    <tr>\n",
       "      <th>3</th>\n",
       "      <td>negative</td>\n",
       "      <td>my whole body feels itchy and like its on fire</td>\n",
       "    </tr>\n",
       "    <tr>\n",
       "      <th>4</th>\n",
       "      <td>negative</td>\n",
       "      <td>nationwideclass no its not behaving at all im ...</td>\n",
       "    </tr>\n",
       "  </tbody>\n",
       "</table>\n",
       "</div>"
      ],
      "text/plain": [
       "  sentiment                                               text\n",
       "0  negative  switchfoot   awww thats a bummer  you shoulda ...\n",
       "1  negative  is upset that he cant update his facebook by t...\n",
       "2  negative  kenichan i dived many times for the ball manag...\n",
       "3  negative    my whole body feels itchy and like its on fire \n",
       "4  negative  nationwideclass no its not behaving at all im ..."
      ]
     },
     "execution_count": 5,
     "metadata": {},
     "output_type": "execute_result"
    }
   ],
   "source": [
    "def cleaning(a):\n",
    "    a = str(a).lower()\n",
    "    a = re.sub('\\[.*?\\]', '', a)\n",
    "    a = re.sub('[%s]' % re.escape(string.punctuation), '', a)\n",
    "    a = re.sub('\\n', '', a)\n",
    "    a = re.sub('https?://\\S+|www\\.\\S+', '', a)\n",
    "    a = re.sub('<.*?>+', '', a)\n",
    "    a = re.sub('\\w*\\d\\w*', '', a)\n",
    "    return a\n",
    "\n",
    "data['text'] = data['text'].apply(cleaning)\n",
    "data.head()"
   ]
  },
  {
   "cell_type": "markdown",
   "id": "f1122625",
   "metadata": {
    "papermill": {
     "duration": 0.008093,
     "end_time": "2023-02-28T12:00:01.686275",
     "exception": false,
     "start_time": "2023-02-28T12:00:01.678182",
     "status": "completed"
    },
    "tags": []
   },
   "source": [
    "### **Remove Stopwords**\n",
    "In Natural Language Processing (NLP), stop words are commonly occurring words that are filtered out before or after processing of text data. Stop words are usually words that do not contribute much to the meaning of a sentence or document, and are therefore not considered useful for text analysis. Examples of stop words include \"the\", \"and\", \"a\", \"an\", \"in\", \"of\", \"is\", \"to\", \"that\", \"it\", and so on.Removing stop words from a text can help reduce the dimensionality of the dataset, which can make analysis more efficient and effective."
   ]
  },
  {
   "cell_type": "code",
   "execution_count": 6,
   "id": "3e26de10",
   "metadata": {
    "execution": {
     "iopub.execute_input": "2023-02-28T12:00:01.703953Z",
     "iopub.status.busy": "2023-02-28T12:00:01.703638Z",
     "iopub.status.idle": "2023-02-28T12:00:50.341502Z",
     "shell.execute_reply": "2023-02-28T12:00:50.340556Z"
    },
    "papermill": {
     "duration": 48.653956,
     "end_time": "2023-02-28T12:00:50.348470",
     "exception": false,
     "start_time": "2023-02-28T12:00:01.694514",
     "status": "completed"
    },
    "tags": []
   },
   "outputs": [
    {
     "data": {
      "text/html": [
       "<div>\n",
       "<style scoped>\n",
       "    .dataframe tbody tr th:only-of-type {\n",
       "        vertical-align: middle;\n",
       "    }\n",
       "\n",
       "    .dataframe tbody tr th {\n",
       "        vertical-align: top;\n",
       "    }\n",
       "\n",
       "    .dataframe thead th {\n",
       "        text-align: right;\n",
       "    }\n",
       "</style>\n",
       "<table border=\"1\" class=\"dataframe\">\n",
       "  <thead>\n",
       "    <tr style=\"text-align: right;\">\n",
       "      <th></th>\n",
       "      <th>sentiment</th>\n",
       "      <th>text</th>\n",
       "    </tr>\n",
       "  </thead>\n",
       "  <tbody>\n",
       "    <tr>\n",
       "      <th>0</th>\n",
       "      <td>negative</td>\n",
       "      <td>switchfoot   awww thats bummer  shoulda got da...</td>\n",
       "    </tr>\n",
       "    <tr>\n",
       "      <th>1</th>\n",
       "      <td>negative</td>\n",
       "      <td>upset cant update facebook texting might cry r...</td>\n",
       "    </tr>\n",
       "    <tr>\n",
       "      <th>2</th>\n",
       "      <td>negative</td>\n",
       "      <td>kenichan dived many times ball managed save   ...</td>\n",
       "    </tr>\n",
       "    <tr>\n",
       "      <th>3</th>\n",
       "      <td>negative</td>\n",
       "      <td>whole body feels itchy like fire</td>\n",
       "    </tr>\n",
       "    <tr>\n",
       "      <th>4</th>\n",
       "      <td>negative</td>\n",
       "      <td>nationwideclass behaving im mad cant see</td>\n",
       "    </tr>\n",
       "  </tbody>\n",
       "</table>\n",
       "</div>"
      ],
      "text/plain": [
       "  sentiment                                               text\n",
       "0  negative  switchfoot   awww thats bummer  shoulda got da...\n",
       "1  negative  upset cant update facebook texting might cry r...\n",
       "2  negative  kenichan dived many times ball managed save   ...\n",
       "3  negative                  whole body feels itchy like fire \n",
       "4  negative          nationwideclass behaving im mad cant see "
      ]
     },
     "execution_count": 6,
     "metadata": {},
     "output_type": "execute_result"
    }
   ],
   "source": [
    "s_words = stopwords.words('english')\n",
    "\n",
    "def removing(text):\n",
    "    a = ' '.join(i for i in text.split(' ') if i not in s_words)\n",
    "    return a\n",
    "    \n",
    "data['text'] = data['text'].apply(removing)\n",
    "data.head()"
   ]
  },
  {
   "cell_type": "markdown",
   "id": "5d3bac54",
   "metadata": {
    "papermill": {
     "duration": 0.00813,
     "end_time": "2023-02-28T12:00:50.365013",
     "exception": false,
     "start_time": "2023-02-28T12:00:50.356883",
     "status": "completed"
    },
    "tags": []
   },
   "source": [
    "### **Stemming**\n",
    "Stemming is a technique used in natural language processing (NLP) to reduce words to their base or root form, which is called the stem. The goal of stemming is to reduce the inflectional and derivational forms of words to a common base form, which can simplify text analysis and improve the accuracy of text-based applications such as search engines, sentiment analysis, and text classification.\n",
    "\n",
    "For example, the words \"running\", \"runs\", and \"ran\" can be reduced to their stem \"run\", which can help to identify them as variants of the same word and thus improve the accuracy of analysis."
   ]
  },
  {
   "cell_type": "code",
   "execution_count": 7,
   "id": "1155e4ce",
   "metadata": {
    "execution": {
     "iopub.execute_input": "2023-02-28T12:00:50.383354Z",
     "iopub.status.busy": "2023-02-28T12:00:50.382497Z",
     "iopub.status.idle": "2023-02-28T12:03:37.422483Z",
     "shell.execute_reply": "2023-02-28T12:03:37.421536Z"
    },
    "papermill": {
     "duration": 167.059626,
     "end_time": "2023-02-28T12:03:37.432909",
     "exception": false,
     "start_time": "2023-02-28T12:00:50.373283",
     "status": "completed"
    },
    "tags": []
   },
   "outputs": [
    {
     "data": {
      "text/html": [
       "<div>\n",
       "<style scoped>\n",
       "    .dataframe tbody tr th:only-of-type {\n",
       "        vertical-align: middle;\n",
       "    }\n",
       "\n",
       "    .dataframe tbody tr th {\n",
       "        vertical-align: top;\n",
       "    }\n",
       "\n",
       "    .dataframe thead th {\n",
       "        text-align: right;\n",
       "    }\n",
       "</style>\n",
       "<table border=\"1\" class=\"dataframe\">\n",
       "  <thead>\n",
       "    <tr style=\"text-align: right;\">\n",
       "      <th></th>\n",
       "      <th>sentiment</th>\n",
       "      <th>text</th>\n",
       "    </tr>\n",
       "  </thead>\n",
       "  <tbody>\n",
       "    <tr>\n",
       "      <th>0</th>\n",
       "      <td>negative</td>\n",
       "      <td>switchfoot   awww that bummer  shoulda got dav...</td>\n",
       "    </tr>\n",
       "    <tr>\n",
       "      <th>1</th>\n",
       "      <td>negative</td>\n",
       "      <td>upset cant updat facebook text might cri resul...</td>\n",
       "    </tr>\n",
       "    <tr>\n",
       "      <th>2</th>\n",
       "      <td>negative</td>\n",
       "      <td>kenichan dive mani time ball manag save   rest...</td>\n",
       "    </tr>\n",
       "    <tr>\n",
       "      <th>3</th>\n",
       "      <td>negative</td>\n",
       "      <td>whole bodi feel itchi like fire</td>\n",
       "    </tr>\n",
       "    <tr>\n",
       "      <th>4</th>\n",
       "      <td>negative</td>\n",
       "      <td>nationwideclass behav im mad cant see</td>\n",
       "    </tr>\n",
       "  </tbody>\n",
       "</table>\n",
       "</div>"
      ],
      "text/plain": [
       "  sentiment                                               text\n",
       "0  negative  switchfoot   awww that bummer  shoulda got dav...\n",
       "1  negative  upset cant updat facebook text might cri resul...\n",
       "2  negative  kenichan dive mani time ball manag save   rest...\n",
       "3  negative                   whole bodi feel itchi like fire \n",
       "4  negative             nationwideclass behav im mad cant see "
      ]
     },
     "execution_count": 7,
     "metadata": {},
     "output_type": "execute_result"
    }
   ],
   "source": [
    "snow_stemmer = nltk.SnowballStemmer(\"english\")\n",
    "\n",
    "def stemming(text):\n",
    "    text = ' '.join(snow_stemmer.stem(i) for i in text.split(' '))\n",
    "    return text\n",
    "\n",
    "data['text'] = data['text'].apply(stemming)\n",
    "data.head()"
   ]
  },
  {
   "cell_type": "markdown",
   "id": "65696187",
   "metadata": {
    "papermill": {
     "duration": 0.008225,
     "end_time": "2023-02-28T12:03:37.449656",
     "exception": false,
     "start_time": "2023-02-28T12:03:37.441431",
     "status": "completed"
    },
    "tags": []
   },
   "source": [
    "### **Target Encoding**"
   ]
  },
  {
   "cell_type": "code",
   "execution_count": 8,
   "id": "9281ccb9",
   "metadata": {
    "execution": {
     "iopub.execute_input": "2023-02-28T12:03:37.467896Z",
     "iopub.status.busy": "2023-02-28T12:03:37.467308Z",
     "iopub.status.idle": "2023-02-28T12:03:37.772246Z",
     "shell.execute_reply": "2023-02-28T12:03:37.771282Z"
    },
    "papermill": {
     "duration": 0.316637,
     "end_time": "2023-02-28T12:03:37.774666",
     "exception": false,
     "start_time": "2023-02-28T12:03:37.458029",
     "status": "completed"
    },
    "tags": []
   },
   "outputs": [
    {
     "data": {
      "text/html": [
       "<div>\n",
       "<style scoped>\n",
       "    .dataframe tbody tr th:only-of-type {\n",
       "        vertical-align: middle;\n",
       "    }\n",
       "\n",
       "    .dataframe tbody tr th {\n",
       "        vertical-align: top;\n",
       "    }\n",
       "\n",
       "    .dataframe thead th {\n",
       "        text-align: right;\n",
       "    }\n",
       "</style>\n",
       "<table border=\"1\" class=\"dataframe\">\n",
       "  <thead>\n",
       "    <tr style=\"text-align: right;\">\n",
       "      <th></th>\n",
       "      <th>sentiment</th>\n",
       "      <th>text</th>\n",
       "    </tr>\n",
       "  </thead>\n",
       "  <tbody>\n",
       "    <tr>\n",
       "      <th>0</th>\n",
       "      <td>0</td>\n",
       "      <td>switchfoot   awww that bummer  shoulda got dav...</td>\n",
       "    </tr>\n",
       "    <tr>\n",
       "      <th>1</th>\n",
       "      <td>0</td>\n",
       "      <td>upset cant updat facebook text might cri resul...</td>\n",
       "    </tr>\n",
       "    <tr>\n",
       "      <th>2</th>\n",
       "      <td>0</td>\n",
       "      <td>kenichan dive mani time ball manag save   rest...</td>\n",
       "    </tr>\n",
       "    <tr>\n",
       "      <th>3</th>\n",
       "      <td>0</td>\n",
       "      <td>whole bodi feel itchi like fire</td>\n",
       "    </tr>\n",
       "    <tr>\n",
       "      <th>4</th>\n",
       "      <td>0</td>\n",
       "      <td>nationwideclass behav im mad cant see</td>\n",
       "    </tr>\n",
       "  </tbody>\n",
       "</table>\n",
       "</div>"
      ],
      "text/plain": [
       "   sentiment                                               text\n",
       "0          0  switchfoot   awww that bummer  shoulda got dav...\n",
       "1          0  upset cant updat facebook text might cri resul...\n",
       "2          0  kenichan dive mani time ball manag save   rest...\n",
       "3          0                   whole bodi feel itchi like fire \n",
       "4          0             nationwideclass behav im mad cant see "
      ]
     },
     "execution_count": 8,
     "metadata": {},
     "output_type": "execute_result"
    }
   ],
   "source": [
    "a = LabelEncoder()\n",
    "a.fit(data['sentiment'])\n",
    "\n",
    "data['sentiment'] = a.transform(data['sentiment'])\n",
    "data.head()"
   ]
  },
  {
   "cell_type": "markdown",
   "id": "cd5665e1",
   "metadata": {
    "papermill": {
     "duration": 0.008574,
     "end_time": "2023-02-28T12:03:37.792361",
     "exception": false,
     "start_time": "2023-02-28T12:03:37.783787",
     "status": "completed"
    },
    "tags": []
   },
   "source": [
    "### **Split data set**"
   ]
  },
  {
   "cell_type": "code",
   "execution_count": 9,
   "id": "f62b257d",
   "metadata": {
    "execution": {
     "iopub.execute_input": "2023-02-28T12:03:37.810738Z",
     "iopub.status.busy": "2023-02-28T12:03:37.810436Z",
     "iopub.status.idle": "2023-02-28T12:03:38.093748Z",
     "shell.execute_reply": "2023-02-28T12:03:38.092784Z"
    },
    "papermill": {
     "duration": 0.295189,
     "end_time": "2023-02-28T12:03:38.096191",
     "exception": false,
     "start_time": "2023-02-28T12:03:37.801002",
     "status": "completed"
    },
    "tags": []
   },
   "outputs": [],
   "source": [
    "x = data['text']\n",
    "y = data['sentiment']\n",
    "x_train, x_test, y_train, y_test = train_test_split(x, y, random_state=42)"
   ]
  },
  {
   "cell_type": "markdown",
   "id": "9548f26f",
   "metadata": {
    "papermill": {
     "duration": 0.008612,
     "end_time": "2023-02-28T12:03:38.113845",
     "exception": false,
     "start_time": "2023-02-28T12:03:38.105233",
     "status": "completed"
    },
    "tags": []
   },
   "source": [
    " ### **Tokenization**\n",
    "In Natural Language Processing (NLP), tokenization is the process of breaking up a text into individual words, phrases, symbols, or other meaningful elements, called tokens. Tokenization is a crucial step in NLP because most text analysis and processing tasks rely on being able to identify and manipulate individual units of meaning within a text."
   ]
  },
  {
   "cell_type": "code",
   "execution_count": 10,
   "id": "c4733dcb",
   "metadata": {
    "execution": {
     "iopub.execute_input": "2023-02-28T12:03:38.133654Z",
     "iopub.status.busy": "2023-02-28T12:03:38.132578Z",
     "iopub.status.idle": "2023-02-28T12:04:22.060607Z",
     "shell.execute_reply": "2023-02-28T12:04:22.059648Z"
    },
    "papermill": {
     "duration": 43.940606,
     "end_time": "2023-02-28T12:04:22.063162",
     "exception": false,
     "start_time": "2023-02-28T12:03:38.122556",
     "status": "completed"
    },
    "tags": []
   },
   "outputs": [],
   "source": [
    "token = Tokenizer()\n",
    "#token.fit_on_texts(list(x_train) + list(x_test))\n",
    "token.fit_on_texts(x_train)\n",
    "word_index = token.word_index\n",
    "v_size = len(token.word_index) + 1\n",
    "x_train = pad_sequences(token.texts_to_sequences(x_train),maxlen = 30)\n",
    "x_test = pad_sequences(token.texts_to_sequences(x_test),maxlen = 30)"
   ]
  },
  {
   "cell_type": "markdown",
   "id": "603ce6fe",
   "metadata": {
    "papermill": {
     "duration": 0.008421,
     "end_time": "2023-02-28T12:04:22.080713",
     "exception": false,
     "start_time": "2023-02-28T12:04:22.072292",
     "status": "completed"
    },
    "tags": []
   },
   "source": [
    "# **Word Embedding**\n",
    "In natural language processing (NLP), word embedding is a technique used to represent words or phrases in a vector space, where each dimension of the vector represents a different feature or characteristic of the word. Word embedding algorithms aim to capture the semantic and syntactic relationships between words in a language, such as word similarity, word analogies, and word associations.\n",
    "\n",
    "Here, I use glove pre-trained embedding, it was developed by stanford university researchers."
   ]
  },
  {
   "cell_type": "markdown",
   "id": "1ed52a84",
   "metadata": {
    "papermill": {
     "duration": 0.008325,
     "end_time": "2023-02-28T12:04:22.097666",
     "exception": false,
     "start_time": "2023-02-28T12:04:22.089341",
     "status": "completed"
    },
    "tags": []
   },
   "source": [
    "### **Access Glove file and Unzip the Folder**"
   ]
  },
  {
   "cell_type": "code",
   "execution_count": 11,
   "id": "6e303940",
   "metadata": {
    "execution": {
     "iopub.execute_input": "2023-02-28T12:04:22.117342Z",
     "iopub.status.busy": "2023-02-28T12:04:22.115761Z",
     "iopub.status.idle": "2023-02-28T12:07:23.743654Z",
     "shell.execute_reply": "2023-02-28T12:07:23.742531Z"
    },
    "papermill": {
     "duration": 181.639835,
     "end_time": "2023-02-28T12:07:23.746054",
     "exception": false,
     "start_time": "2023-02-28T12:04:22.106219",
     "status": "completed"
    },
    "tags": []
   },
   "outputs": [
    {
     "name": "stdout",
     "output_type": "stream",
     "text": [
      "/bin/bash: /opt/conda/lib/libtinfo.so.6: no version information available (required by /bin/bash)\r\n",
      "--2023-02-28 12:04:22--  http://nlp.stanford.edu/data/glove.6B.zip\r\n",
      "Resolving nlp.stanford.edu (nlp.stanford.edu)... 171.64.67.140\r\n",
      "Connecting to nlp.stanford.edu (nlp.stanford.edu)|171.64.67.140|:80... connected.\r\n",
      "HTTP request sent, awaiting response... 302 Found\r\n",
      "Location: https://nlp.stanford.edu/data/glove.6B.zip [following]\r\n",
      "--2023-02-28 12:04:23--  https://nlp.stanford.edu/data/glove.6B.zip\r\n",
      "Connecting to nlp.stanford.edu (nlp.stanford.edu)|171.64.67.140|:443... connected.\r\n",
      "HTTP request sent, awaiting response... 301 Moved Permanently\r\n",
      "Location: https://downloads.cs.stanford.edu/nlp/data/glove.6B.zip [following]\r\n",
      "--2023-02-28 12:04:23--  https://downloads.cs.stanford.edu/nlp/data/glove.6B.zip\r\n",
      "Resolving downloads.cs.stanford.edu (downloads.cs.stanford.edu)... 171.64.64.22\r\n",
      "Connecting to downloads.cs.stanford.edu (downloads.cs.stanford.edu)|171.64.64.22|:443... connected.\r\n",
      "HTTP request sent, awaiting response... 200 OK\r\n",
      "Length: 862182613 (822M) [application/zip]\r\n",
      "Saving to: ‘glove.6B.zip’\r\n",
      "\r\n",
      "glove.6B.zip        100%[===================>] 822.24M  5.06MB/s    in 2m 39s  \r\n",
      "\r\n",
      "2023-02-28 12:07:02 (5.17 MB/s) - ‘glove.6B.zip’ saved [862182613/862182613]\r\n",
      "\r\n",
      "/bin/bash: /opt/conda/lib/libtinfo.so.6: no version information available (required by /bin/bash)\r\n",
      "Archive:  glove.6B.zip\r\n",
      "  inflating: glove.6B.50d.txt        \r\n",
      "  inflating: glove.6B.100d.txt       \r\n",
      "  inflating: glove.6B.200d.txt       \r\n",
      "  inflating: glove.6B.300d.txt       \r\n"
     ]
    }
   ],
   "source": [
    "!wget http://nlp.stanford.edu/data/glove.6B.zip\n",
    "!unzip glove.6B.zip"
   ]
  },
  {
   "cell_type": "markdown",
   "id": "1c339b0c",
   "metadata": {
    "papermill": {
     "duration": 0.048594,
     "end_time": "2023-02-28T12:07:23.843804",
     "exception": false,
     "start_time": "2023-02-28T12:07:23.795210",
     "status": "completed"
    },
    "tags": []
   },
   "source": [
    "### **Create dictionary**\n",
    "Here, I create a dictionary for each word and respective vector. Here, I use glove 300d file"
   ]
  },
  {
   "cell_type": "code",
   "execution_count": 12,
   "id": "caf31ff6",
   "metadata": {
    "execution": {
     "iopub.execute_input": "2023-02-28T12:07:23.942658Z",
     "iopub.status.busy": "2023-02-28T12:07:23.942263Z",
     "iopub.status.idle": "2023-02-28T12:07:46.714191Z",
     "shell.execute_reply": "2023-02-28T12:07:46.713174Z"
    },
    "papermill": {
     "duration": 22.824215,
     "end_time": "2023-02-28T12:07:46.716580",
     "exception": false,
     "start_time": "2023-02-28T12:07:23.892365",
     "status": "completed"
    },
    "tags": []
   },
   "outputs": [],
   "source": [
    "gl_em_dict = {}\n",
    "with open('glove.6B.300d.txt','r') as f:\n",
    "  for j in f:\n",
    "    v = j.split()\n",
    "    w = v[0]\n",
    "    word_v = np.asarray(v[1:],'float32')\n",
    "    gl_em_dict[w]=word_v"
   ]
  },
  {
   "cell_type": "markdown",
   "id": "89d943d9",
   "metadata": {
    "papermill": {
     "duration": 0.049153,
     "end_time": "2023-02-28T12:07:46.815110",
     "exception": false,
     "start_time": "2023-02-28T12:07:46.765957",
     "status": "completed"
    },
    "tags": []
   },
   "source": [
    "### **Creating Embedding Matrix**\n",
    "This embedding matrix will be used as the initial weights for an embedding layer in a neural network."
   ]
  },
  {
   "cell_type": "code",
   "execution_count": 13,
   "id": "c30fcc3c",
   "metadata": {
    "execution": {
     "iopub.execute_input": "2023-02-28T12:07:46.915504Z",
     "iopub.status.busy": "2023-02-28T12:07:46.914478Z",
     "iopub.status.idle": "2023-02-28T12:07:47.381448Z",
     "shell.execute_reply": "2023-02-28T12:07:47.380463Z"
    },
    "papermill": {
     "duration": 0.520409,
     "end_time": "2023-02-28T12:07:47.384073",
     "exception": false,
     "start_time": "2023-02-28T12:07:46.863664",
     "status": "completed"
    },
    "tags": []
   },
   "outputs": [],
   "source": [
    "em_matrix = np.zeros((v_size, 300))\n",
    "for w, i in word_index.items():\n",
    "  em_vector = gl_em_dict.get(w)\n",
    "  if em_vector is not None:\n",
    "    em_matrix[i] = em_vector"
   ]
  },
  {
   "cell_type": "markdown",
   "id": "4f4a79e6",
   "metadata": {
    "papermill": {
     "duration": 0.047847,
     "end_time": "2023-02-28T12:07:47.480802",
     "exception": false,
     "start_time": "2023-02-28T12:07:47.432955",
     "status": "completed"
    },
    "tags": []
   },
   "source": [
    "### **Initialize Embedding Layer**"
   ]
  },
  {
   "cell_type": "code",
   "execution_count": 14,
   "id": "29fb381b",
   "metadata": {
    "execution": {
     "iopub.execute_input": "2023-02-28T12:07:47.579161Z",
     "iopub.status.busy": "2023-02-28T12:07:47.578827Z",
     "iopub.status.idle": "2023-02-28T12:07:47.599262Z",
     "shell.execute_reply": "2023-02-28T12:07:47.598408Z"
    },
    "papermill": {
     "duration": 0.071996,
     "end_time": "2023-02-28T12:07:47.601374",
     "exception": false,
     "start_time": "2023-02-28T12:07:47.529378",
     "status": "completed"
    },
    "tags": []
   },
   "outputs": [],
   "source": [
    "em_layer = tensorflow.keras.layers.Embedding(v_size,300,weights=[em_matrix],input_length=30,trainable=False)"
   ]
  },
  {
   "cell_type": "markdown",
   "id": "608972f1",
   "metadata": {
    "papermill": {
     "duration": 0.049112,
     "end_time": "2023-02-28T12:07:47.698583",
     "exception": false,
     "start_time": "2023-02-28T12:07:47.649471",
     "status": "completed"
    },
    "tags": []
   },
   "source": [
    "### **Creating Model**"
   ]
  },
  {
   "cell_type": "code",
   "execution_count": 15,
   "id": "299689f8",
   "metadata": {
    "execution": {
     "iopub.execute_input": "2023-02-28T12:07:47.796771Z",
     "iopub.status.busy": "2023-02-28T12:07:47.796441Z",
     "iopub.status.idle": "2023-02-28T12:07:56.506550Z",
     "shell.execute_reply": "2023-02-28T12:07:56.505592Z"
    },
    "papermill": {
     "duration": 8.761834,
     "end_time": "2023-02-28T12:07:56.508957",
     "exception": false,
     "start_time": "2023-02-28T12:07:47.747123",
     "status": "completed"
    },
    "tags": []
   },
   "outputs": [],
   "source": [
    "s_input = Input(shape=(30), dtype='int32')\n",
    "em_sequences = em_layer(s_input)\n",
    "layer = SpatialDropout1D(0.2)(em_sequences)\n",
    "layer = Conv1D(64, 5, activation='relu')(layer)\n",
    "layer = Bidirectional(LSTM(64, dropout=0.2, recurrent_dropout=0.2))(layer)\n",
    "layer = Dense(512, activation='relu')(layer)\n",
    "layer = Dropout(0.5)(layer)\n",
    "layer = Dense(512, activation='relu')(layer)\n",
    "output = Dense(1, activation='sigmoid')(layer)\n",
    "model = tensorflow.keras.Model(s_input, output)"
   ]
  },
  {
   "cell_type": "markdown",
   "id": "382633d9",
   "metadata": {
    "papermill": {
     "duration": 0.048525,
     "end_time": "2023-02-28T12:07:56.606405",
     "exception": false,
     "start_time": "2023-02-28T12:07:56.557880",
     "status": "completed"
    },
    "tags": []
   },
   "source": [
    "### **Model Compiling**"
   ]
  },
  {
   "cell_type": "code",
   "execution_count": 16,
   "id": "0dbe30a8",
   "metadata": {
    "execution": {
     "iopub.execute_input": "2023-02-28T12:07:56.706484Z",
     "iopub.status.busy": "2023-02-28T12:07:56.706139Z",
     "iopub.status.idle": "2023-02-28T12:07:56.719768Z",
     "shell.execute_reply": "2023-02-28T12:07:56.718882Z"
    },
    "papermill": {
     "duration": 0.066223,
     "end_time": "2023-02-28T12:07:56.721752",
     "exception": false,
     "start_time": "2023-02-28T12:07:56.655529",
     "status": "completed"
    },
    "tags": []
   },
   "outputs": [],
   "source": [
    "model.compile(optimizer= 'adam', loss='binary_crossentropy',metrics=['accuracy'])"
   ]
  },
  {
   "cell_type": "markdown",
   "id": "d86cdd49",
   "metadata": {
    "papermill": {
     "duration": 0.048624,
     "end_time": "2023-02-28T12:07:56.819351",
     "exception": false,
     "start_time": "2023-02-28T12:07:56.770727",
     "status": "completed"
    },
    "tags": []
   },
   "source": [
    "### Train the Model"
   ]
  },
  {
   "cell_type": "code",
   "execution_count": 17,
   "id": "f54e8a67",
   "metadata": {
    "execution": {
     "iopub.execute_input": "2023-02-28T12:07:56.917845Z",
     "iopub.status.busy": "2023-02-28T12:07:56.917504Z",
     "iopub.status.idle": "2023-02-28T12:55:24.706362Z",
     "shell.execute_reply": "2023-02-28T12:55:24.705148Z"
    },
    "papermill": {
     "duration": 2847.841251,
     "end_time": "2023-02-28T12:55:24.708997",
     "exception": false,
     "start_time": "2023-02-28T12:07:56.867746",
     "status": "completed"
    },
    "tags": []
   },
   "outputs": [
    {
     "name": "stdout",
     "output_type": "stream",
     "text": [
      "Epoch 1/10\n",
      "1172/1172 [==============================] - 291s 239ms/step - loss: 0.5321 - accuracy: 0.7296 - val_loss: 0.4967 - val_accuracy: 0.7560\n",
      "Epoch 2/10\n",
      "1172/1172 [==============================] - 281s 240ms/step - loss: 0.5016 - accuracy: 0.7523 - val_loss: 0.4871 - val_accuracy: 0.7616\n",
      "Epoch 3/10\n",
      "1172/1172 [==============================] - 282s 240ms/step - loss: 0.4922 - accuracy: 0.7590 - val_loss: 0.4885 - val_accuracy: 0.7627\n",
      "Epoch 4/10\n",
      "1172/1172 [==============================] - 283s 242ms/step - loss: 0.4864 - accuracy: 0.7628 - val_loss: 0.4818 - val_accuracy: 0.7655\n",
      "Epoch 5/10\n",
      "1172/1172 [==============================] - 283s 242ms/step - loss: 0.4824 - accuracy: 0.7654 - val_loss: 0.4796 - val_accuracy: 0.7670\n",
      "Epoch 6/10\n",
      "1172/1172 [==============================] - 285s 243ms/step - loss: 0.4793 - accuracy: 0.7672 - val_loss: 0.4791 - val_accuracy: 0.7673\n",
      "Epoch 7/10\n",
      "1172/1172 [==============================] - 285s 243ms/step - loss: 0.4769 - accuracy: 0.7686 - val_loss: 0.4769 - val_accuracy: 0.7687\n",
      "Epoch 8/10\n",
      "1172/1172 [==============================] - 285s 243ms/step - loss: 0.4748 - accuracy: 0.7701 - val_loss: 0.4776 - val_accuracy: 0.7681\n",
      "Epoch 9/10\n",
      "1172/1172 [==============================] - 287s 244ms/step - loss: 0.4728 - accuracy: 0.7713 - val_loss: 0.4809 - val_accuracy: 0.7690\n",
      "Epoch 10/10\n",
      "1172/1172 [==============================] - 286s 244ms/step - loss: 0.4712 - accuracy: 0.7724 - val_loss: 0.4777 - val_accuracy: 0.7689\n"
     ]
    }
   ],
   "source": [
    "history = model.fit(x_train, y_train, batch_size=1024, epochs=10,validation_data=(x_test, y_test))"
   ]
  },
  {
   "cell_type": "markdown",
   "id": "df0833cd",
   "metadata": {
    "papermill": {
     "duration": 0.867961,
     "end_time": "2023-02-28T12:55:26.290790",
     "exception": false,
     "start_time": "2023-02-28T12:55:25.422829",
     "status": "completed"
    },
    "tags": []
   },
   "source": [
    "### **Plotting Accuracy and Loss**"
   ]
  },
  {
   "cell_type": "code",
   "execution_count": 18,
   "id": "e0687bd3",
   "metadata": {
    "execution": {
     "iopub.execute_input": "2023-02-28T12:55:27.955505Z",
     "iopub.status.busy": "2023-02-28T12:55:27.955049Z",
     "iopub.status.idle": "2023-02-28T12:55:28.373407Z",
     "shell.execute_reply": "2023-02-28T12:55:28.372382Z"
    },
    "papermill": {
     "duration": 1.332163,
     "end_time": "2023-02-28T12:55:28.376435",
     "exception": false,
     "start_time": "2023-02-28T12:55:27.044272",
     "status": "completed"
    },
    "tags": []
   },
   "outputs": [
    {
     "data": {
      "text/plain": [
       "<matplotlib.legend.Legend at 0x7feac1f13510>"
      ]
     },
     "execution_count": 18,
     "metadata": {},
     "output_type": "execute_result"
    },
    {
     "data": {
      "image/png": "[encoded data removed]",
      "text/plain": [
       "<Figure size 640x480 with 2 Axes>"
      ]
     },
     "metadata": {},
     "output_type": "display_data"
    }
   ],
   "source": [
    "s, (a, b) = plt.subplots(2,1)\n",
    "a.plot(history.history['accuracy'])\n",
    "a.plot(history.history['val_accuracy'])\n",
    "a.set_title('model accuracy')\n",
    "a.set_ylabel('accuracy')\n",
    "a.legend(['train_accuracy', 'test_accuracy'], loc='upper left')\n",
    "\n",
    "b.plot(history.history['loss'])\n",
    "b.plot(history.history['val_loss'])\n",
    "b.set_ylabel('loss')\n",
    "b.set_xlabel('epoch')\n",
    "b.legend(['train_loss', 'test_loss'], loc = 'upper left')"
   ]
  },
  {
   "cell_type": "markdown",
   "id": "3bad95e0",
   "metadata": {
    "papermill": {
     "duration": 0.732978,
     "end_time": "2023-02-28T12:55:29.973025",
     "exception": false,
     "start_time": "2023-02-28T12:55:29.240047",
     "status": "completed"
    },
    "tags": []
   },
   "source": [
    "### Model Evaluating"
   ]
  },
  {
   "cell_type": "code",
   "execution_count": 19,
   "id": "8315a677",
   "metadata": {
    "execution": {
     "iopub.execute_input": "2023-02-28T12:55:31.358459Z",
     "iopub.status.busy": "2023-02-28T12:55:31.358092Z",
     "iopub.status.idle": "2023-02-28T12:58:33.965889Z",
     "shell.execute_reply": "2023-02-28T12:58:33.964737Z"
    },
    "papermill": {
     "duration": 183.326207,
     "end_time": "2023-02-28T12:58:33.968545",
     "exception": false,
     "start_time": "2023-02-28T12:55:30.642338",
     "status": "completed"
    },
    "tags": []
   },
   "outputs": [
    {
     "name": "stdout",
     "output_type": "stream",
     "text": [
      "12500/12500 [==============================] - 183s 15ms/step - loss: 0.4777 - accuracy: 0.7689\n"
     ]
    }
   ],
   "source": [
    "ac = model.evaluate(x_test,y_test)"
   ]
  },
  {
   "cell_type": "code",
   "execution_count": 20,
   "id": "a335c707",
   "metadata": {
    "execution": {
     "iopub.execute_input": "2023-02-28T12:58:35.793984Z",
     "iopub.status.busy": "2023-02-28T12:58:35.793612Z",
     "iopub.status.idle": "2023-02-28T12:58:35.799222Z",
     "shell.execute_reply": "2023-02-28T12:58:35.798180Z"
    },
    "papermill": {
     "duration": 0.923033,
     "end_time": "2023-02-28T12:58:35.803079",
     "exception": false,
     "start_time": "2023-02-28T12:58:34.880046",
     "status": "completed"
    },
    "tags": []
   },
   "outputs": [
    {
     "name": "stdout",
     "output_type": "stream",
     "text": [
      "test set\n",
      "  loss: 0.48\n",
      "  accuracy: 0.77\n"
     ]
    }
   ],
   "source": [
    "print('test set\\n  loss: {:0.2f}\\n  accuracy: {:0.2f}'.format(ac[0],ac[1]))"
   ]
  },
  {
   "cell_type": "markdown",
   "id": "c6ddf094",
   "metadata": {
    "papermill": {
     "duration": 1.281965,
     "end_time": "2023-02-28T12:58:37.936213",
     "exception": false,
     "start_time": "2023-02-28T12:58:36.654248",
     "status": "completed"
    },
    "tags": []
   },
   "source": [
    "### **Sample Prediction**"
   ]
  },
  {
   "cell_type": "code",
   "execution_count": 21,
   "id": "e6b63fcf",
   "metadata": {
    "execution": {
     "iopub.execute_input": "2023-02-28T12:58:39.737656Z",
     "iopub.status.busy": "2023-02-28T12:58:39.737244Z",
     "iopub.status.idle": "2023-02-28T12:58:40.267193Z",
     "shell.execute_reply": "2023-02-28T12:58:40.265994Z"
    },
    "papermill": {
     "duration": 1.441423,
     "end_time": "2023-02-28T12:58:40.270327",
     "exception": false,
     "start_time": "2023-02-28T12:58:38.828904",
     "status": "completed"
    },
    "tags": []
   },
   "outputs": [
    {
     "name": "stdout",
     "output_type": "stream",
     "text": [
      "1/1 [==============================] - 0s 474ms/step\n",
      "[[0.8278474]]\n",
      "positive\n"
     ]
    }
   ],
   "source": [
    "t = ['he is a good boy']\n",
    "t = token.texts_to_sequences(t)\n",
    "t = pad_sequences(t, maxlen=30)\n",
    "sentiment = model.predict(t)\n",
    "print(sentiment)\n",
    "if(sentiment > 0.5):\n",
    "    print(\"positive\")\n",
    "else:\n",
    "    print(\"negative\")"
   ]
  },
  {
   "cell_type": "markdown",
   "id": "f4c7d91f",
   "metadata": {
    "papermill": {
     "duration": 0.920964,
     "end_time": "2023-02-28T12:58:42.111117",
     "exception": false,
     "start_time": "2023-02-28T12:58:41.190153",
     "status": "completed"
    },
    "tags": []
   },
   "source": [
    "### This notebook is under construction, and I will provide code explanations for every line of this notebook. If you like this notebook please give me an upvote and then it would be my pleasure."
   ]
  },
  {
   "cell_type": "markdown",
   "id": "fe0bb0bf",
   "metadata": {
    "papermill": {
     "duration": 1.069597,
     "end_time": "2023-02-28T12:58:44.071525",
     "exception": false,
     "start_time": "2023-02-28T12:58:43.001928",
     "status": "completed"
    },
    "tags": []
   },
   "source": [
    "Special thanks to https://www.kaggle.com/code/arunrk7/nlp-beginner-text-classification-using-lstm#Word-Emdedding this amazing notebook"
   ]
  }
 ],
 "metadata": {
  "kernelspec": {
   "display_name": "Python 3",
   "language": "python",
   "name": "python3"
  },
  "language_info": {
   "codemirror_mode": {
    "name": "ipython",
    "version": 3
   },
   "file_extension": ".py",
   "mimetype": "text/x-python",
   "name": "python",
   "nbconvert_exporter": "python",
   "pygments_lexer": "ipython3",
   "version": "3.7.12"
  },
  "papermill": {
   "default_parameters": {},
   "duration": 3582.621572,
   "end_time": "2023-02-28T12:58:48.769329",
   "environment_variables": {},
   "exception": null,
   "input_path": "__notebook__.ipynb",
   "output_path": "__notebook__.ipynb",
   "parameters": {},
   "start_time": "2023-02-28T11:59:06.147757",
   "version": "2.3.4"
  }
 },
 "nbformat": 4,
 "nbformat_minor": 5
}
